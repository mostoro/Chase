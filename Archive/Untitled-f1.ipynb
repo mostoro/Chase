{
 "cells": [
  {
   "cell_type": "markdown",
   "metadata": {},
   "source": [
    "#### 3702"
   ]
  },
  {
   "cell_type": "code",
   "execution_count": 18,
   "metadata": {},
   "outputs": [
    {
     "data": {
      "text/plain": [
       "39"
      ]
     },
     "execution_count": 18,
     "metadata": {},
     "output_type": "execute_result"
    }
   ],
   "source": [
    "# Definir el texto con los ${KEY_TAB}\n",
    "texto = \"${KEY_TAB} ${KEY_TAB}${KEY_TAB} ${KEY_TAB}${KEY_TAB} ${KEY_TAB}${KEY_TAB} ${KEY_TAB}${KEY_TAB} ${KEY_TAB}${KEY_TAB} ${KEY_TAB}${KEY_TAB} ${KEY_TAB}${KEY_TAB} ${KEY_TAB}${KEY_TAB} ${KEY_TAB}${KEY_TAB} ${KEY_TAB}${KEY_TAB} ${KEY_TAB}${KEY_TAB} ${KEY_TAB}${KEY_TAB} ${KEY_TAB}  ${KEY_TAB} ${KEY_TAB}  ${KEY_TAB} ${KEY_TAB}  ${KEY_TAB} ${KEY_TAB}  ${KEY_TAB} ${KEY_TAB}  ${KEY_TAB}${KEY_TAB}${KEY_TAB}${KEY_TAB}${KEY_TAB}\"\n",
    "texto.count(\"${KEY_TAB}\")"
   ]
  },
  {
   "cell_type": "code",
   "execution_count": 9,
   "metadata": {},
   "outputs": [
    {
     "data": {
      "text/plain": [
       "39"
      ]
     },
     "execution_count": 9,
     "metadata": {},
     "output_type": "execute_result"
    }
   ],
   "source": []
  },
  {
   "cell_type": "code",
   "execution_count": null,
   "metadata": {},
   "outputs": [],
   "source": [
    "1263"
   ]
  },
  {
   "cell_type": "code",
   "execution_count": 42,
   "metadata": {},
   "outputs": [
    {
     "data": {
      "text/plain": [
       "65"
      ]
     },
     "execution_count": 42,
     "metadata": {},
     "output_type": "execute_result"
    }
   ],
   "source": [
    "texto = \"${KEY_TAB} ${KEY_TAB}${KEY_TAB} ${KEY_TAB}${KEY_TAB} ${KEY_TAB}${KEY_TAB} ${KEY_TAB}${KEY_TAB} ${KEY_TAB}${KEY_TAB} ${KEY_TAB}${KEY_TAB} ${KEY_TAB}${KEY_TAB} ${KEY_TAB}${KEY_TAB} ${KEY_TAB}${KEY_TAB} ${KEY_TAB}${KEY_TAB} ${KEY_TAB}${KEY_TAB} ${KEY_TAB}${KEY_TAB} ${KEY_TAB}${KEY_TAB} ${KEY_TAB}${KEY_TAB} ${KEY_TAB}${KEY_TAB} ${KEY_TAB}${KEY_TAB} ${KEY_TAB}${KEY_TAB} ${KEY_TAB}${KEY_TAB} ${KEY_TAB}${KEY_TAB} ${KEY_TAB}${KEY_TAB} ${KEY_TAB}${KEY_TAB} ${KEY_TAB}${KEY_TAB} ${KEY_TAB}${KEY_TAB} ${KEY_TAB}${KEY_TAB} ${KEY_TAB}${KEY_TAB} ${KEY_TAB}  ${KEY_TAB} ${KEY_TAB}  ${KEY_TAB} ${KEY_TAB}  ${KEY_TAB} ${KEY_TAB}  ${KEY_TAB} ${KEY_TAB}  ${KEY_TAB}${KEY_TAB}${KEY_TAB}${KEY_TAB}${KEY_TAB}\"\n",
    "texto.count(\"${KEY_TAB}\")"
   ]
  },
  {
   "cell_type": "code",
   "execution_count": null,
   "metadata": {},
   "outputs": [],
   "source": [
    "9306"
   ]
  },
  {
   "cell_type": "code",
   "execution_count": 12,
   "metadata": {},
   "outputs": [
    {
     "data": {
      "text/plain": [
       "43"
      ]
     },
     "execution_count": 12,
     "metadata": {},
     "output_type": "execute_result"
    }
   ],
   "source": [
    "# Definir el texto con los ${KEY_TAB}\n",
    "texto = \"${KEY_TAB} ${KEY_TAB}${KEY_TAB} ${KEY_TAB}${KEY_TAB} ${KEY_TAB}${KEY_TAB} ${KEY_TAB}${KEY_TAB} ${KEY_TAB}${KEY_TAB} ${KEY_TAB}${KEY_TAB} ${KEY_TAB}${KEY_TAB} ${KEY_TAB}${KEY_TAB} ${KEY_TAB}${KEY_TAB} ${KEY_TAB}${KEY_TAB} ${KEY_TAB}${KEY_TAB} ${KEY_TAB}${KEY_TAB} ${KEY_TAB}${KEY_TAB} ${KEY_TAB}${KEY_TAB} ${KEY_TAB}  ${KEY_TAB} ${KEY_TAB}  ${KEY_TAB} ${KEY_TAB}  ${KEY_TAB} ${KEY_TAB}  ${KEY_TAB} ${KEY_TAB}  ${KEY_TAB}${KEY_TAB}${KEY_TAB}${KEY_TAB}${KEY_TAB}\"\n",
    "texto.count(\"${KEY_TAB}\")"
   ]
  },
  {
   "cell_type": "code",
   "execution_count": null,
   "metadata": {},
   "outputs": [],
   "source": [
    "6500"
   ]
  },
  {
   "cell_type": "code",
   "execution_count": 14,
   "metadata": {},
   "outputs": [
    {
     "data": {
      "text/plain": [
       "47"
      ]
     },
     "execution_count": 14,
     "metadata": {},
     "output_type": "execute_result"
    }
   ],
   "source": [
    "texto = \"${KEY_TAB} ${KEY_TAB}${KEY_TAB} ${KEY_TAB}${KEY_TAB} ${KEY_TAB}${KEY_TAB} ${KEY_TAB}${KEY_TAB} ${KEY_TAB}${KEY_TAB} ${KEY_TAB}${KEY_TAB} ${KEY_TAB}${KEY_TAB} ${KEY_TAB}${KEY_TAB} ${KEY_TAB}${KEY_TAB} ${KEY_TAB}${KEY_TAB} ${KEY_TAB}${KEY_TAB} ${KEY_TAB}${KEY_TAB} ${KEY_TAB}${KEY_TAB} ${KEY_TAB}${KEY_TAB} ${KEY_TAB}${KEY_TAB} ${KEY_TAB}${KEY_TAB} ${KEY_TAB}  ${KEY_TAB} ${KEY_TAB}  ${KEY_TAB} ${KEY_TAB}  ${KEY_TAB} ${KEY_TAB}  ${KEY_TAB} ${KEY_TAB}  ${KEY_TAB}${KEY_TAB}${KEY_TAB}${KEY_TAB}${KEY_TAB}\"\n",
    "texto.count(\"${KEY_TAB}\")"
   ]
  },
  {
   "cell_type": "code",
   "execution_count": null,
   "metadata": {},
   "outputs": [],
   "source": []
  }
 ],
 "metadata": {
  "kernelspec": {
   "display_name": "Python 3",
   "language": "python",
   "name": "python3"
  },
  "language_info": {
   "codemirror_mode": {
    "name": "ipython",
    "version": 3
   },
   "file_extension": ".py",
   "mimetype": "text/x-python",
   "name": "python",
   "nbconvert_exporter": "python",
   "pygments_lexer": "ipython3",
   "version": "3.11.1"
  }
 },
 "nbformat": 4,
 "nbformat_minor": 2
}
